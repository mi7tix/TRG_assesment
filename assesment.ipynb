{
 "cells": [
  {
   "cell_type": "markdown",
   "id": "1468113e",
   "metadata": {},
   "source": [
    "###### 1. Read ANd Select  Data\n"
   ]
  },
  {
   "cell_type": "code",
   "execution_count": 1,
   "id": "47bfb3d5",
   "metadata": {},
   "outputs": [],
   "source": [
    "from pyspark.sql import SparkSession\n",
    "from pyspark.sql import functions as F\n",
    "from pyspark.sql import types \n",
    "from pyspark.sql.functions import col\n",
    "from pyspark.sql.functions import when\n",
    "from pyspark.sql.types import StringType\n",
    "from pyspark.sql.functions import split , count\n",
    "\n"
   ]
  },
  {
   "cell_type": "code",
   "execution_count": 2,
   "id": "459509af",
   "metadata": {},
   "outputs": [],
   "source": [
    "\n",
    "spark = SparkSession \\\n",
    "        .builder \\\n",
    "        .appName(\"asses\") \\\n",
    "        .getOrCreate()"
   ]
  },
  {
   "cell_type": "code",
   "execution_count": 3,
   "id": "71dc45bc",
   "metadata": {},
   "outputs": [
    {
     "name": "stderr",
     "output_type": "stream",
     "text": [
      "                                                                                \r"
     ]
    }
   ],
   "source": [
    "df1= spark.read.options(header='True', inferSchema='True', delimiter=',') \\\n",
    "  .csv(\"./asses/2022-03/*-outcomes.csv\") \\\n",
    "  .withColumn(\"districtName\", F.input_file_name())"
   ]
  },
  {
   "cell_type": "code",
   "execution_count": 6,
   "id": "6c73fd15",
   "metadata": {},
   "outputs": [
    {
     "name": "stdout",
     "output_type": "stream",
     "text": [
      "root\n",
      " |-- Crime ID: string (nullable = true)\n",
      " |-- Month: string (nullable = true)\n",
      " |-- Reported by: string (nullable = true)\n",
      " |-- Falls within: string (nullable = true)\n",
      " |-- Longitude: double (nullable = true)\n",
      " |-- Latitude: double (nullable = true)\n",
      " |-- Location: string (nullable = true)\n",
      " |-- LSOA code: string (nullable = true)\n",
      " |-- LSOA name: string (nullable = true)\n",
      " |-- Outcome type: string (nullable = true)\n",
      " |-- districtName: string (nullable = false)\n",
      "\n"
     ]
    }
   ],
   "source": [
    "df1.printSchema()"
   ]
  },
  {
   "cell_type": "code",
   "execution_count": 7,
   "id": "fa726e00",
   "metadata": {},
   "outputs": [],
   "source": [
    "df2= spark.read.options(header='True', inferSchema='True', delimiter=',') \\\n",
    "  .csv(\"./asses/2022-03/*-street.csv\") \\\n",
    "  .withColumn(\"districtName\", F.input_file_name())"
   ]
  },
  {
   "cell_type": "code",
   "execution_count": 8,
   "id": "df535e2e",
   "metadata": {},
   "outputs": [
    {
     "name": "stdout",
     "output_type": "stream",
     "text": [
      "root\n",
      " |-- Crime ID: string (nullable = true)\n",
      " |-- Month: string (nullable = true)\n",
      " |-- Reported by: string (nullable = true)\n",
      " |-- Falls within: string (nullable = true)\n",
      " |-- Longitude: double (nullable = true)\n",
      " |-- Latitude: double (nullable = true)\n",
      " |-- Location: string (nullable = true)\n",
      " |-- LSOA code: string (nullable = true)\n",
      " |-- LSOA name: string (nullable = true)\n",
      " |-- Crime type: string (nullable = true)\n",
      " |-- Last outcome category: string (nullable = true)\n",
      " |-- Context: string (nullable = true)\n",
      " |-- districtName: string (nullable = false)\n",
      "\n"
     ]
    }
   ],
   "source": [
    "df2.printSchema()"
   ]
  },
  {
   "cell_type": "code",
   "execution_count": 9,
   "id": "aa721e34",
   "metadata": {},
   "outputs": [],
   "source": [
    "outcomes = df1.select(col(\"Crime ID\").alias(\"CrimeID\"),\n",
    "                      col(\"Outcome type\").alias(\"outcomeType\")\n",
    "                     )\n",
    "                     "
   ]
  },
  {
   "cell_type": "code",
   "execution_count": 10,
   "id": "4e4ad8d2",
   "metadata": {},
   "outputs": [
    {
     "name": "stdout",
     "output_type": "stream",
     "text": [
      "+--------------------+---------------+\n",
      "|             CrimeID|    outcomeType|\n",
      "+--------------------+---------------+\n",
      "|c026deed0f8c1fbfe...|Suspect charged|\n",
      "|a91407d7616943d13...|Suspect charged|\n",
      "|097f3199e65b4d2fa...|Suspect charged|\n",
      "|a70d8667129c59595...|Suspect charged|\n",
      "|577df8e02358a0d3c...|Suspect charged|\n",
      "|52b59b0978b87cbe9...|Suspect charged|\n",
      "|49c33aae4ddcc4652...|Suspect charged|\n",
      "|c1104525f837da6a6...|Suspect charged|\n",
      "|4f464638a7678ab23...|Suspect charged|\n",
      "|1a7a1aba66ca20be5...|Suspect charged|\n",
      "+--------------------+---------------+\n",
      "only showing top 10 rows\n",
      "\n"
     ]
    }
   ],
   "source": [
    "outcomes.show(10)"
   ]
  },
  {
   "cell_type": "code",
   "execution_count": 11,
   "id": "f1119586",
   "metadata": {},
   "outputs": [],
   "source": [
    "\n",
    "street = df2.select(col(\"Crime ID\").alias(\"CrimeID\"), \n",
    "                    col(\"districtName\"),\n",
    "                    col(\"Latitude\"),\n",
    "                    col(\"Longitude\"),\n",
    "                    col(\"Crime type\").alias(\"crimeType\"),\n",
    "                    col(\"Last outcome category\").alias(\"lastOutcomeCategory\")\n",
    "                    )"
   ]
  },
  {
   "cell_type": "code",
   "execution_count": 13,
   "id": "29233a03",
   "metadata": {
    "scrolled": false
   },
   "outputs": [
    {
     "name": "stdout",
     "output_type": "stream",
     "text": [
      "+--------------------+--------------------+---------+---------+--------------------+--------------------+\n",
      "|             CrimeID|        districtName| Latitude|Longitude|           crimeType| lastOutcomeCategory|\n",
      "+--------------------+--------------------+---------+---------+--------------------+--------------------+\n",
      "|6b1be5a8275fcda29...|file:/mnt/c/Users...|50.803304|-0.445898|Violence and sexu...| Under investigation|\n",
      "|6b1be5a8275fcda29...|file:/mnt/c/Users...|50.803304|-0.445898|Violence and sexu...| Under investigation|\n",
      "|b466ed98f60835f37...|file:/mnt/c/Users...|50.804178|-0.530681|Violence and sexu...| Under investigation|\n",
      "|cc667a5d8c2fa4f30...|file:/mnt/c/Users...|51.137084| 0.876572|Theft from the pe...|Investigation com...|\n",
      "|a60d9d1cff047a67e...|file:/mnt/c/Users...|51.124173| 0.969845|Violence and sexu...| Under investigation|\n",
      "|62823a01dfebac344...|file:/mnt/c/Users...|51.809402|-0.813313|Violence and sexu...| Under investigation|\n",
      "|62823a01dfebac344...|file:/mnt/c/Users...|51.809402|-0.813313|Violence and sexu...| Under investigation|\n",
      "|                null|file:/mnt/c/Users...|51.582311| 0.140192|Anti-social behav...|                null|\n",
      "|                null|file:/mnt/c/Users...|51.582311| 0.140192|Anti-social behav...|                null|\n",
      "|                null|file:/mnt/c/Users...|51.583427| 0.140634|Anti-social behav...|                null|\n",
      "+--------------------+--------------------+---------+---------+--------------------+--------------------+\n",
      "only showing top 10 rows\n",
      "\n"
     ]
    }
   ],
   "source": [
    "street.show(10)"
   ]
  },
  {
   "cell_type": "markdown",
   "id": "e0b83c21",
   "metadata": {},
   "source": [
    "###### 1. Align and join data\n"
   ]
  },
  {
   "cell_type": "code",
   "execution_count": 14,
   "id": "c1971c8f",
   "metadata": {},
   "outputs": [],
   "source": [
    "street = street.withColumn('districtName', split(col('districtName'), '-')[3])\n",
    "\n"
   ]
  },
  {
   "cell_type": "code",
   "execution_count": 15,
   "id": "e0f3795b",
   "metadata": {},
   "outputs": [
    {
     "name": "stderr",
     "output_type": "stream",
     "text": [
      "[Stage 11:==================================================>       (7 + 1) / 8]\r"
     ]
    },
    {
     "name": "stdout",
     "output_type": "stream",
     "text": [
      "+---------------+\n",
      "|   districtName|\n",
      "+---------------+\n",
      "|           west|\n",
      "|   metropolitan|\n",
      "|     lancashire|\n",
      "|      hampshire|\n",
      "|     merseyside|\n",
      "|         thames|\n",
      "|          south|\n",
      "|           avon|\n",
      "|          essex|\n",
      "|    northumbria|\n",
      "|       northern|\n",
      "|           kent|\n",
      "| leicestershire|\n",
      "|         sussex|\n",
      "|     derbyshire|\n",
      "|nottinghamshire|\n",
      "|       cheshire|\n",
      "| cambridgeshire|\n",
      "|      cleveland|\n",
      "|          devon|\n",
      "+---------------+\n",
      "only showing top 20 rows\n",
      "\n"
     ]
    },
    {
     "name": "stderr",
     "output_type": "stream",
     "text": [
      "                                                                                \r"
     ]
    }
   ],
   "source": [
    "street.select(col('districtName')).distinct().show()"
   ]
  },
  {
   "cell_type": "code",
   "execution_count": 16,
   "id": "b1cda989",
   "metadata": {},
   "outputs": [
    {
     "name": "stderr",
     "output_type": "stream",
     "text": [
      "[Stage 14:==================================================>       (7 + 1) / 8]\r"
     ]
    },
    {
     "name": "stdout",
     "output_type": "stream",
     "text": [
      "+--------------------+------------+---------+---------+--------------------+-------------------+\n",
      "|             CrimeID|districtName| Latitude|Longitude|           crimeType|lastOutcomeCategory|\n",
      "+--------------------+------------+---------+---------+--------------------+-------------------+\n",
      "|f4818b555bbbd0cf8...|metropolitan|51.582311| 0.140192|Criminal damage a...|Under investigation|\n",
      "|307998477ae1c5207...|metropolitan|51.589112| 0.140035|Violence and sexu...|Under investigation|\n",
      "|1ca44b83eaf540d44...|metropolitan|51.563135| 0.178464|            Burglary|Under investigation|\n",
      "|42bf0d19f10a1ea0b...|metropolitan|51.551164|  0.16253|               Drugs|Under investigation|\n",
      "|16a31ca5bab76d8cb...|metropolitan|51.534088| 0.145297|            Burglary|Under investigation|\n",
      "+--------------------+------------+---------+---------+--------------------+-------------------+\n",
      "only showing top 5 rows\n",
      "\n"
     ]
    },
    {
     "name": "stderr",
     "output_type": "stream",
     "text": [
      "                                                                                \r"
     ]
    }
   ],
   "source": [
    "street.distinct().show(5)\n"
   ]
  },
  {
   "cell_type": "code",
   "execution_count": 17,
   "id": "7516768c",
   "metadata": {},
   "outputs": [],
   "source": [
    "fin = street.join(outcomes,street.CrimeID == outcomes.CrimeID, \"inner\").drop(outcomes.CrimeID) \\\n",
    "           .select(\"crimeID\",\n",
    "                              \"districtName\",\n",
    "                              \"latitude\",\n",
    "                              \"longitude\",\n",
    "                              \"crimeType\",\n",
    "                              \"lastOutcomeCategory\"                              \n",
    "                             )\n",
    "\n",
    "                      \n",
    "                \n"
   ]
  },
  {
   "cell_type": "code",
   "execution_count": 18,
   "id": "5f8a3d17",
   "metadata": {},
   "outputs": [
    {
     "name": "stderr",
     "output_type": "stream",
     "text": [
      "[Stage 18:==================================================>       (7 + 1) / 8]\r"
     ]
    },
    {
     "name": "stdout",
     "output_type": "stream",
     "text": [
      "+--------------------+--------------+---------+---------+--------------------+--------------------+\n",
      "|             crimeID|  districtName| latitude|longitude|           crimeType| lastOutcomeCategory|\n",
      "+--------------------+--------------+---------+---------+--------------------+--------------------+\n",
      "|0006795b63a1d7fc4...|  metropolitan|51.584823|-0.029418|               Drugs|    Local resolution|\n",
      "|000a3b00eb39c6404...|    derbyshire|53.190434|-1.403848|            Burglary|Investigation com...|\n",
      "|000aeb72c5f31a812...|        sussex|50.825336|-0.788895|       Vehicle crime|Investigation com...|\n",
      "|000d6e122438e6d3a...|leicestershire|52.642532| -1.18148|         Other theft|Investigation com...|\n",
      "|000f862e7655b2320...|       suffolk| 52.32091| 0.880006|Violence and sexu...|Unable to prosecu...|\n",
      "|0010576178ac7c1ee...|leicestershire|52.617839|-1.183137|       Vehicle crime|Investigation com...|\n",
      "|001253213790e1514...|         south|53.353411|-1.407377|Criminal damage a...|Investigation com...|\n",
      "|0014e8b614ee03472...|cambridgeshire|52.394183|  0.20088|Violence and sexu...|Investigation com...|\n",
      "|001bd8e19acae56fb...|leicestershire|52.637712|-1.130751|         Other theft|Investigation com...|\n",
      "|001cfca4e0227ef38...|         south|53.357994|-1.464244|Criminal damage a...|Investigation com...|\n",
      "+--------------------+--------------+---------+---------+--------------------+--------------------+\n",
      "only showing top 10 rows\n",
      "\n",
      "root\n",
      " |-- crimeID: string (nullable = true)\n",
      " |-- districtName: string (nullable = true)\n",
      " |-- latitude: double (nullable = true)\n",
      " |-- longitude: double (nullable = true)\n",
      " |-- crimeType: string (nullable = true)\n",
      " |-- lastOutcomeCategory: string (nullable = true)\n",
      "\n"
     ]
    },
    {
     "name": "stderr",
     "output_type": "stream",
     "text": [
      "                                                                                \r"
     ]
    }
   ],
   "source": [
    "fin.show(10)\n",
    "fin.printSchema()"
   ]
  },
  {
   "cell_type": "markdown",
   "id": "aa8b1817",
   "metadata": {},
   "source": [
    "###### 1. Provide statistic"
   ]
  },
  {
   "cell_type": "code",
   "execution_count": 19,
   "id": "f23caca7",
   "metadata": {
    "scrolled": true
   },
   "outputs": [],
   "source": [
    "KPI = fin.groupBy(\"crimeType\") \\\n",
    "       .agg(count(\"crimeID\").alias(\"KPI\")) \\\n",
    "       .orderBy(\"KPI\") "
   ]
  },
  {
   "cell_type": "code",
   "execution_count": 20,
   "id": "f3aa3da6",
   "metadata": {},
   "outputs": [],
   "source": [
    "KPI2 = fin.groupBy(\"lastOutcomeCategory\") \\\n",
    "       .agg(count(\"crimeID\").alias(\"KPI\")) \\\n",
    "       .orderBy(\"KPI\") "
   ]
  },
  {
   "cell_type": "code",
   "execution_count": 21,
   "id": "8a285102",
   "metadata": {},
   "outputs": [],
   "source": [
    "KPI3 = fin.groupBy(\"districtName\") \\\n",
    "       .agg(count(\"crimeID\").alias(\"KPI\")) \\\n",
    "       .orderBy(\"KPI\") "
   ]
  },
  {
   "cell_type": "code",
   "execution_count": 22,
   "id": "ab530ea3",
   "metadata": {},
   "outputs": [
    {
     "name": "stderr",
     "output_type": "stream",
     "text": [
      "                                                                                \r"
     ]
    },
    {
     "name": "stdout",
     "output_type": "stream",
     "text": [
      "+--------------------+-----+\n",
      "|           crimeType|  KPI|\n",
      "+--------------------+-----+\n",
      "|             Robbery|  886|\n",
      "|Possession of wea...| 1302|\n",
      "|       Bicycle theft| 3152|\n",
      "|         Other crime| 3199|\n",
      "|Theft from the pe...| 3884|\n",
      "|               Drugs| 6414|\n",
      "|            Burglary| 8063|\n",
      "|         Shoplifting|12139|\n",
      "|       Vehicle crime|18286|\n",
      "|        Public order|18333|\n",
      "|         Other theft|19405|\n",
      "|Criminal damage a...|21388|\n",
      "|Violence and sexu...|58656|\n",
      "+--------------------+-----+\n",
      "\n"
     ]
    },
    {
     "name": "stderr",
     "output_type": "stream",
     "text": [
      "                                                                                \r"
     ]
    },
    {
     "name": "stdout",
     "output_type": "stream",
     "text": [
      "+--------------------+-----+\n",
      "| lastOutcomeCategory|  KPI|\n",
      "+--------------------+-----+\n",
      "|Suspect charged a...|   27|\n",
      "|Offender given a ...|  253|\n",
      "|Offender given pe...|  507|\n",
      "|Formal action is ...|  763|\n",
      "| Under investigation|  782|\n",
      "|Further action is...| 1192|\n",
      "|Further investiga...| 1562|\n",
      "|Offender given a ...| 1647|\n",
      "|Action to be take...| 2680|\n",
      "|    Local resolution| 5046|\n",
      "|Awaiting court ou...|11051|\n",
      "|Unable to prosecu...|54851|\n",
      "|Investigation com...|94746|\n",
      "+--------------------+-----+\n",
      "\n"
     ]
    },
    {
     "name": "stderr",
     "output_type": "stream",
     "text": [
      "[Stage 40:===============>  (7 + 1) / 8][Stage 41:==>               (1 + 7) / 8]\r"
     ]
    },
    {
     "name": "stdout",
     "output_type": "stream",
     "text": [
      "+----------------+----+\n",
      "|    districtName| KPI|\n",
      "+----------------+----+\n",
      "|            city| 180|\n",
      "|           gwent| 327|\n",
      "|       wiltshire|1117|\n",
      "|         cumbria|1658|\n",
      "|           devon|1681|\n",
      "| gloucestershire|1686|\n",
      "|    warwickshire|1687|\n",
      "|          dorset|1848|\n",
      "|          durham|1893|\n",
      "|           dyfed|1920|\n",
      "|   hertfordshire|2083|\n",
      "|         suffolk|2154|\n",
      "|    bedfordshire|2203|\n",
      "|northamptonshire|2777|\n",
      "|         norfolk|2904|\n",
      "|           north|3187|\n",
      "|        cheshire|3196|\n",
      "|    lincolnshire|3204|\n",
      "|            avon|3253|\n",
      "|      derbyshire|3253|\n",
      "+----------------+----+\n",
      "only showing top 20 rows\n",
      "\n"
     ]
    },
    {
     "name": "stderr",
     "output_type": "stream",
     "text": [
      "                                                                                \r"
     ]
    }
   ],
   "source": [
    "KPI.show()\n",
    "KPI2.show()\n",
    "KPI3.show()"
   ]
  },
  {
   "cell_type": "code",
   "execution_count": null,
   "id": "28d14621",
   "metadata": {},
   "outputs": [],
   "source": []
  }
 ],
 "metadata": {
  "kernelspec": {
   "display_name": "Python 3 (ipykernel)",
   "language": "python",
   "name": "python3"
  },
  "language_info": {
   "codemirror_mode": {
    "name": "ipython",
    "version": 3
   },
   "file_extension": ".py",
   "mimetype": "text/x-python",
   "name": "python",
   "nbconvert_exporter": "python",
   "pygments_lexer": "ipython3",
   "version": "3.8.10"
  }
 },
 "nbformat": 4,
 "nbformat_minor": 5
}
